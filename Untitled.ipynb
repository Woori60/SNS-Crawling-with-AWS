{
 "cells": [
  {
   "cell_type": "markdown",
   "metadata": {},
   "source": [
    "# 190517_python naver sample crawling"
   ]
  },
  {
   "cell_type": "code",
   "execution_count": 8,
   "metadata": {},
   "outputs": [
    {
     "ename": "SyntaxError",
     "evalue": "unexpected EOF while parsing (<ipython-input-8-34252cd203e7>, line 26)",
     "output_type": "error",
     "traceback": [
      "\u001b[1;36m  File \u001b[1;32m\"<ipython-input-8-34252cd203e7>\"\u001b[1;36m, line \u001b[1;32m26\u001b[0m\n\u001b[1;33m    \u001b[0m\n\u001b[1;37m    ^\u001b[0m\n\u001b[1;31mSyntaxError\u001b[0m\u001b[1;31m:\u001b[0m unexpected EOF while parsing\n"
     ]
    }
   ],
   "source": [
    "from urllib import parse, request\n",
    "def search_book_by_title(title) :\n",
    "    client_id = \"nvuHisMr7TwhFbwEgG41\"\n",
    "    client_pw = \"MhHSXj9cPk\"\n",
    "    enc_text = parse.quote(title) # 변수 title을 URL 인코딩\n",
    "\n",
    "    url = \"https://openapi.naver.com/v1/search/book.json?query=\" + enc_text + \"&display=10&start=1\"\n",
    "        # API URL에 query와 패러미터를 추가한 url\n",
    "    req = request.Request(url) # urllib.request.Request로 http 요청 객체 생성\n",
    "    req.add_header(\"X-Naver-Client-Id\", client_id)\n",
    "    req.add_header(\"X-Naver-Client-Secret\", client_pw) # header로 id와 secret 추가\n",
    "    \n",
    "    try:\n",
    "        response = request.urlopen(req) \n",
    "        # 객체를 매개변수로 request.urlopen을 호출해 Web 서버에 요청\n",
    "    except:\n",
    "        print(\"책 제목 {} 검색 불가\".format(title))\n",
    "        return None\n",
    "\n",
    "    res_code = response.getcode() # response의 코드\n",
    "\n",
    "    if (res_code == 200): # 200 OK 이면\n",
    "        response_body = response.read()\n",
    "\n",
    "        print(\"body \" + response_body.decode('utf-8') # 내용을 출력\n",
    "              "
   ]
  },
  {
   "cell_type": "code",
   "execution_count": 9,
   "metadata": {},
   "outputs": [
    {
     "ename": "NameError",
     "evalue": "name 'search_book_by_title' is not defined",
     "output_type": "error",
     "traceback": [
      "\u001b[1;31m---------------------------------------------------------------------------\u001b[0m",
      "\u001b[1;31mNameError\u001b[0m                                 Traceback (most recent call last)",
      "\u001b[1;32m<ipython-input-9-7e45bbe23b19>\u001b[0m in \u001b[0;36m<module>\u001b[1;34m\u001b[0m\n\u001b[1;32m----> 1\u001b[1;33m \u001b[0msearch_book_by_title\u001b[0m\u001b[1;33m(\u001b[0m\u001b[1;34m\"어린왕자\"\u001b[0m\u001b[1;33m)\u001b[0m \u001b[1;31m# 책 제목을 전달\u001b[0m\u001b[1;33m\u001b[0m\u001b[1;33m\u001b[0m\u001b[0m\n\u001b[0m",
      "\u001b[1;31mNameError\u001b[0m: name 'search_book_by_title' is not defined"
     ]
    }
   ],
   "source": [
    "search_book_by_title(\"어린왕자\") # 책 제목을 전달"
   ]
  },
  {
   "cell_type": "code",
   "execution_count": 10,
   "metadata": {},
   "outputs": [
    {
     "name": "stdout",
     "output_type": "stream",
     "text": [
      "{\n",
      "\"lastBuildDate\": \"Fri, 17 May 2019 21:10:32 +0900\",\n",
      "\"total\": 34156162,\n",
      "\"start\": 1,\n",
      "\"display\": 10,\n",
      "\"items\": [\n",
      "{\n",
      "\"title\": \"다낭 <b>여행</b> 내 취향저격 노니스파!\",\n",
      "\"link\": \"https:\\/\\/blog.naver.com\\/ssovely8?Redirect=Log&logNo=221538295955\",\n",
      "\"description\": \"다낭 <b>여행</b> 취향저격 노니스파 안녕하세요. 전 다른 것보다 이번 다낭 <b>여행</b>이 가장 기대가 되었어요. 앞서 갔던 <b>여행</b>들도 너무나 좋았지만, 이번에 지인들과 떠나는 다낭 <b>여행</b>은 마사지를 좀 더 새롭게 누려볼... \",\n",
      "\"bloggername\": \"다섯 밤과 낮\",\n",
      "\"bloggerlink\": \"https://blog.naver.com/ssovely8\",\n",
      "\"postdate\": \"20190516\"\n",
      "\n",
      "},\n",
      "{\n",
      "\"title\": \"다 같이 세부<b>여행</b> 어떠신가요?\",\n",
      "\"link\": \"https:\\/\\/blog.naver.com\\/jsman2002?Redirect=Log&logNo=221538546601\",\n",
      "\"description\": \"이번에 제가 세부<b>여행</b>을 다녀와서 만족스러워서 여러분들에게 소개를 해드릴까 합니다. 제가 <b>여행</b>을 갈 때 보통 일행이 있으면 같이 단독 투어로 많이 가는 편인데요. 이번에 친구들이 같이 가자고 해서... \",\n",
      "\"bloggername\": \"소곤소곤 여행앓이\",\n",
      "\"bloggerlink\": \"https://blog.naver.com/jsman2002\",\n",
      "\"postdate\": \"20190515\"\n",
      "\n",
      "},\n",
      "{\n",
      "\"title\": \"태국<b>여행</b> 푸켓 자유롭게 3박5일 <b>여행</b>코스\",\n",
      "\"link\": \"https:\\/\\/blog.naver.com\\/nau2001?Redirect=Log&logNo=221536343064\",\n",
      "\"description\": \"태국<b>여행</b> 푸켓 자유롭게 3박5일 <b>여행</b>코스 최근 저가항공의 취항으로 다낭과 나트랑 등 베트남<b>여행</b>지가 휴양지로 강세지만 10년전에는 휴양<b>여행</b>하면 무조건 푸켓이였죠! 하지만 푸켓으로 가는 항공이... \",\n",
      "\"bloggername\": \"와그잡의 트래블홀릭\",\n",
      "\"bloggerlink\": \"https://blog.naver.com/nau2001\",\n",
      "\"postdate\": \"20190513\"\n",
      "\n",
      "},\n",
      "{\n",
      "\"title\": \"세부 가족<b>여행</b> 꼼꼼한 스케쥴과 꿀팁 Tips!\",\n",
      "\"link\": \"https:\\/\\/blog.naver.com\\/csn324?Redirect=Log&logNo=221538921000\",\n",
      "\"description\": \"세부 가족<b>여행</b> 3박 5일 or 4박 6일 안녕하세요. <b>여행</b>블로거 도란도란 입니다. 오늘은 세부 가족<b>여행</b> 일주일간 다녀온 후기를 보다 꼼꼼하게 전해드리려고 합니다. 저는 조금 길게 다녀와서 여유가 있엇지만 3박... \",\n",
      "\"bloggername\": \"비범한 백수부부의 세계여행기~*\",\n",
      "\"bloggerlink\": \"https://blog.naver.com/csn324\",\n",
      "\"postdate\": \"20190516\"\n",
      "\n",
      "},\n",
      "{\n",
      "\"title\": \"나트랑 자유<b>여행</b> 혼자 떠나는 여정\",\n",
      "\"link\": \"https:\\/\\/blog.naver.com\\/niky8888?Redirect=Log&logNo=221534551221\",\n",
      "\"description\": \"10일보다는 작지만 나름 연휴라 <b>여행</b> 다녀오시는 분들이 많더라고요. 그동안 쌓인 스트레스를 어떻게 하면 잘 풀었다고 소문이 날까 고민하고 있었는데 해외<b>여행</b>이 나을 듯싶어 기회를 봐 베트남 <b>여행</b>을... \",\n",
      "\"bloggername\": \"니키월드 ♡\",\n",
      "\"bloggerlink\": \"https://blog.naver.com/niky8888\",\n",
      "\"postdate\": \"20190510\"\n",
      "\n",
      "},\n",
      "{\n",
      "\"title\": \"아이 둘과 제주 우도<b>여행</b> 교통편은?\",\n",
      "\"link\": \"https:\\/\\/blog.naver.com\\/hitomi1228?Redirect=Log&logNo=221525670900\",\n",
      "\"description\": \"아이 둘과 제주 우도<b>여행</b> 교통편은? 조금 게으르게 아이 둘과 함께 했던 제주이야기를 슬슬... 남편을 두고, 온전히 저희 셋만 <b>여행</b>한 것은 이번이 처음이거든요. 사실 친정도 아이들 데리고 혼자가기는 하지만... \",\n",
      "\"bloggername\": \"스위트카렌의 달달한 작업실\",\n",
      "\"bloggerlink\": \"https://blog.naver.com/hitomi1228\",\n",
      "\"postdate\": \"20190429\"\n",
      "\n",
      "},\n",
      "{\n",
      "\"title\": \"돌아기랑 괌 <b>여행</b> 코스 + 괌 가볼만한곳!\",\n",
      "\"link\": \"https:\\/\\/blog.naver.com\\/unique1028?Redirect=Log&logNo=221534543206\",\n",
      "\"description\": \"GUAM 2019 아기랑 가기 좋은 해외<b>여행</b>지 괌으로 4박5일 <b>여행</b> 다녀왔습니당♥ 하은이랑은 제주도<b>여행</b>을 시작으로 두번째 비행이자 첫번째 해외<b>여행</b>이기도 해요! 4월 13일 돌잔치 18일 이사 20일 괌<b>여행</b> 진짜... \",\n",
      "\"bloggername\": \"줄리다이어리♥\",\n",
      "\"bloggerlink\": \"https://blog.naver.com/unique1028\",\n",
      "\"postdate\": \"20190510\"\n",
      "\n",
      "},\n",
      "{\n",
      "\"title\": \"세부 자유<b>여행</b> 남다른 꿀잼 만끽하자\",\n",
      "\"link\": \"https:\\/\\/blog.naver.com\\/zzzzzangg?Redirect=Log&logNo=221528847535\",\n",
      "\"description\": \"세부 자유<b>여행</b> 남다른 꿀잼 만끽하자 안녕하세요! 이웃님들 즐거운 한 주 보내고 계신가요? 저는 한동안... 아무래도 재 충전이 필요할 때가 온거같아요^^ 그래서 남자친구와 제 친구들과 함께 <b>여행</b>을 다녀오기로... \",\n",
      "\"bloggername\": \"STAY GOLD\",\n",
      "\"bloggerlink\": \"https://blog.naver.com/zzzzzangg\",\n",
      "\"postdate\": \"20190503\"\n",
      "\n",
      "},\n",
      "{\n",
      "\"title\": \"보라카이 자유<b>여행</b> 너무 완벽했었다!\",\n",
      "\"link\": \"https:\\/\\/blog.naver.com\\/ar_or_alin?Redirect=Log&logNo=221526982709\",\n",
      "\"description\": \"요즘 틈만 나면 친구들이랑 여름휴가 이야기를 하게 되는것 같다~ 아무래도 날씨가 더워지면 쉬고싶어지고 <b>여행</b>가고 싶어져서 더더욱 그런것 같음 모두들 아시다시피 내가 <b>여행</b>을 엄청 좋아하는 편이라... \",\n",
      "\"bloggername\": \"AliN BLOG :: ALLOG 알로그\",\n",
      "\"bloggerlink\": \"https://blog.naver.com/ar_or_alin\",\n",
      "\"postdate\": \"20190501\"\n",
      "\n",
      "},\n",
      "{\n",
      "\"title\": \"지난 부산<b>여행</b> 기록 (2017년)\",\n",
      "\"link\": \"https:\\/\\/blog.naver.com\\/alwls222?Redirect=Log&logNo=221534414272\",\n",
      "\"description\": \"일본 <b>여행</b>을 가기로 하고 아이들 여권도 만들어 뒀는데 젠장쓰, 일본을 정가고 싶으면 이혼도장 찍고 가라는 세상잘난 이스방 세상에 이렇게이렇게 서로 다를수가 없다 할많하않.. 결국 일본<b>여행</b>은 무산 되었고... \",\n",
      "\"bloggername\": \"린넨살림\",\n",
      "\"bloggerlink\": \"https://blog.naver.com/alwls222\",\n",
      "\"postdate\": \"20190510\"\n",
      "\n",
      "}\n",
      "]\n",
      "}\n",
      "\n"
     ]
    }
   ],
   "source": [
    "import os\n",
    "import sys\n",
    "import urllib.request\n",
    "client_id = \"nvuHisMr7TwhFbwEgG41\"\n",
    "client_secret = \"MhHSXj9cPk\"\n",
    "encText = urllib.parse.quote(\"검색할 단어\")\n",
    "url = \"https://openapi.naver.com/v1/search/blog?query=\" + encText # json 결과\n",
    "# url = \"https://openapi.naver.com/v1/search/blog.xml?query=\" + encText # xml 결과\n",
    "request = urllib.request.Request(url)\n",
    "request.add_header(\"X-Naver-Client-Id\",client_id)\n",
    "request.add_header(\"X-Naver-Client-Secret\",client_secret)\n",
    "response = urllib.request.urlopen(request)\n",
    "rescode = response.getcode()\n",
    "if(rescode==200):\n",
    "    response_body = response.read()\n",
    "    print(response_body.decode('utf-8'))\n",
    "else:\n",
    "    print(\"Error Code:\" + rescode)"
   ]
  },
  {
   "cell_type": "code",
   "execution_count": 12,
   "metadata": {},
   "outputs": [
    {
     "name": "stdout",
     "output_type": "stream",
     "text": [
      "https://openapi.naver.com/v1/search/blog?query=%EC%97%AC%ED%96%89\n"
     ]
    },
    {
     "ename": "AttributeError",
     "evalue": "'HTTPResponse' object has no attribute 'text'",
     "output_type": "error",
     "traceback": [
      "\u001b[1;31m---------------------------------------------------------------------------\u001b[0m",
      "\u001b[1;31mAttributeError\u001b[0m                            Traceback (most recent call last)",
      "\u001b[1;32m<ipython-input-12-49514fc50c58>\u001b[0m in \u001b[0;36m<module>\u001b[1;34m\u001b[0m\n\u001b[0;32m     19\u001b[0m \u001b[1;32mif\u001b[0m\u001b[1;33m(\u001b[0m\u001b[0mrescode\u001b[0m\u001b[1;33m==\u001b[0m\u001b[1;36m200\u001b[0m\u001b[1;33m)\u001b[0m\u001b[1;33m:\u001b[0m\u001b[1;33m\u001b[0m\u001b[1;33m\u001b[0m\u001b[0m\n\u001b[0;32m     20\u001b[0m     \u001b[0mprint\u001b[0m\u001b[1;33m(\u001b[0m\u001b[0mresponse\u001b[0m\u001b[1;33m.\u001b[0m\u001b[0murl\u001b[0m\u001b[1;33m)\u001b[0m\u001b[1;33m\u001b[0m\u001b[1;33m\u001b[0m\u001b[0m\n\u001b[1;32m---> 21\u001b[1;33m     \u001b[0mprint\u001b[0m\u001b[1;33m(\u001b[0m\u001b[0mresponse\u001b[0m\u001b[1;33m.\u001b[0m\u001b[0mtext\u001b[0m\u001b[1;33m)\u001b[0m\u001b[1;33m\u001b[0m\u001b[1;33m\u001b[0m\u001b[0m\n\u001b[0m\u001b[0;32m     22\u001b[0m \u001b[1;32melse\u001b[0m\u001b[1;33m:\u001b[0m\u001b[1;33m\u001b[0m\u001b[1;33m\u001b[0m\u001b[0m\n\u001b[0;32m     23\u001b[0m     \u001b[0mprint\u001b[0m\u001b[1;33m(\u001b[0m\u001b[1;34m\"Error Code:\"\u001b[0m \u001b[1;33m+\u001b[0m \u001b[0mrescode\u001b[0m\u001b[1;33m)\u001b[0m\u001b[1;33m\u001b[0m\u001b[1;33m\u001b[0m\u001b[0m\n",
      "\u001b[1;31mAttributeError\u001b[0m: 'HTTPResponse' object has no attribute 'text'"
     ]
    }
   ],
   "source": []
  },
  {
   "cell_type": "code",
   "execution_count": 54,
   "metadata": {},
   "outputs": [
    {
     "name": "stdout",
     "output_type": "stream",
     "text": [
      "https://blog.naver.com/the_trip?Redirect=Log&logNo=221517609702\n",
      "http://arumutour.com/221521797676\n",
      "https://blog.socuri.net/category/Travel\n",
      "https://llalaladays.blog.me/221532017201\n",
      "https://blog.naver.com/stasis7?Redirect=Log&logNo=221539481044\n",
      "https://sesool.blog.me/221409443566\n",
      "https://blog.naver.com/m99446h?Redirect=Log&logNo=221520920957\n",
      "https://skfdktjdwp.blog.me/221539482722\n",
      "https://blog.naver.com/deuxmy?Redirect=Log&logNo=221525183443\n",
      "https://blog.naver.com/callas0819?Redirect=Log&logNo=221531175158\n"
     ]
    }
   ],
   "source": [
    "from bs4 import BeautifulSoup  \n",
    "import requests                \n",
    "import urllib.request as req        #해당 3가지 library는 알 것이라 생각하여 설명 생략\n",
    "\n",
    "from itertools import count         # 반복횟수가 불확실한 for Loop에서 사용\n",
    "from collections import OrderedDict # 마지막 게시글인지 여부를 비교확인하기 위해 사용 \n",
    "import re                           # 정규 표현식을 사용하기 위해 사용[출처] [파이썬]블로그 게시글 크롤링(crawling)_01(개발 환경)[BeautifulSoup,Requests]|작성자 GUN\n",
    "\n",
    "\n",
    "url = 'http://search.naver.com/search.naver'\n",
    "hrd = {'User-Agent': 'Mozilla/5.0' , 'referer' : 'http://naver.com'}\n",
    "\n",
    "param = {'where' : 'post', 'query' : 'travel'}\n",
    "\n",
    "response = requests.get(url,params=param,headers=hrd)\n",
    "\n",
    "#print(response)\n",
    "#print(response.url)\n",
    "#print(response.text)\n",
    "soup = BeautifulSoup(response.text, 'html.parser')\n",
    "\n",
    "area = soup.find('div', {'class': 'blog section _blogBase _prs_blg'}).find_all('a', {'class': 'url'})\n",
    "\n",
    "for tag in area:\n",
    "    url1=tag.get('href')\n",
    "    print(\"{:}\".format(url1))\n",
    "\n"
   ]
  },
  {
   "cell_type": "code",
   "execution_count": null,
   "metadata": {},
   "outputs": [],
   "source": []
  }
 ],
 "metadata": {
  "kernelspec": {
   "display_name": "Python 3",
   "language": "python",
   "name": "python3"
  },
  "language_info": {
   "codemirror_mode": {
    "name": "ipython",
    "version": 3
   },
   "file_extension": ".py",
   "mimetype": "text/x-python",
   "name": "python",
   "nbconvert_exporter": "python",
   "pygments_lexer": "ipython3",
   "version": "3.6.8"
  }
 },
 "nbformat": 4,
 "nbformat_minor": 2
}
